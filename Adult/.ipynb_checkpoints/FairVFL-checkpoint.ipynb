{
 "cells": [
  {
   "cell_type": "code",
   "execution_count": 1,
   "metadata": {},
   "outputs": [],
   "source": [
    "import os\n",
    "os.environ[\"CUDA_VISIBLE_DEVICES\"] = \"3\""
   ]
  },
  {
   "cell_type": "code",
   "execution_count": 2,
   "metadata": {},
   "outputs": [
    {
     "name": "stdout",
     "output_type": "stream",
     "text": [
      "WARNING:tensorflow:Deprecation warnings have been disabled. Set TF_ENABLE_DEPRECATION_WARNINGS=1 to re-enable them.\n"
     ]
    },
    {
     "name": "stderr",
     "output_type": "stream",
     "text": [
      "Using TensorFlow backend.\n"
     ]
    }
   ],
   "source": [
    "import tensorflow as tf\n",
    "import keras.backend.tensorflow_backend as KTF\n",
    " \n",
    "config = tf.ConfigProto()  \n",
    "config.gpu_options.allow_growth=True  \n",
    "session = tf.Session(config=config)\n",
    " \n",
    "KTF.set_session(session)"
   ]
  },
  {
   "cell_type": "code",
   "execution_count": 3,
   "metadata": {},
   "outputs": [],
   "source": [
    "from preprocessing import *\n",
    "from models import *\n",
    "from evaluation import *\n",
    "from train import *"
   ]
  },
  {
   "cell_type": "code",
   "execution_count": null,
   "metadata": {},
   "outputs": [],
   "source": []
  },
  {
   "cell_type": "code",
   "execution_count": 4,
   "metadata": {},
   "outputs": [],
   "source": [
    "data_root_path = '/data/qit16/FairML'\n",
    "LabelWeights, FeatureDict, TrainFeatures, ValFeatures, TestFeatures, TrainAttri, ValAttri, TestAttri, TrainLabels, ValLabels, TestLabels = load_data(data_root_path)"
   ]
  },
  {
   "cell_type": "code",
   "execution_count": null,
   "metadata": {},
   "outputs": [],
   "source": []
  },
  {
   "cell_type": "code",
   "execution_count": null,
   "metadata": {},
   "outputs": [],
   "source": []
  },
  {
   "cell_type": "code",
   "execution_count": null,
   "metadata": {
    "scrolled": true
   },
   "outputs": [],
   "source": [
    "mode = 'Dense'\n",
    "dim_rep = 64\n",
    "hyper_gender = 500\n",
    "hyper_age = 60\n",
    "gamma = 0.1\n",
    "\n",
    "for repeat in range(40):\n",
    "    Result = []\n",
    "    model,rep_model,Discrimator,Mapper,Contrastive_Discrimator,Contrastive_Attacker = get_data_flow(mode,FeatureDict,hyper_gender,hyper_age,gamma)\n",
    "    for i in range(10):\n",
    "        train_model(model,rep_model,Discrimator,Mapper,Contrastive_Discrimator,Contrastive_Attacker,LabelWeights,TrainFeatures,TrainAttri,TrainLabels)\n",
    "        val_result = evaluate_val(model,rep_model,LabelWeights,TrainFeatures,TrainAttri,ValFeatures,ValLabels,ValAttri)\n",
    "        test_result = evaluate_test(model,rep_model,LabelWeights,TestFeatures,TestLabels,TestAttri)\n",
    "        privacy = evaluate_privacy(rep_model,Mapper,TestFeatures,FeatureDict)\n",
    "        Result.append([test_result,val_result,privacy])\n",
    "        print(Result[-1])\n",
    "\n",
    "    dump_result(Result)\n",
    "    print()"
   ]
  },
  {
   "cell_type": "code",
   "execution_count": null,
   "metadata": {},
   "outputs": [],
   "source": []
  },
  {
   "cell_type": "code",
   "execution_count": null,
   "metadata": {},
   "outputs": [],
   "source": []
  }
 ],
 "metadata": {
  "kernelspec": {
   "display_name": "Python 3",
   "language": "python",
   "name": "python3"
  },
  "language_info": {
   "codemirror_mode": {
    "name": "ipython",
    "version": 3
   },
   "file_extension": ".py",
   "mimetype": "text/x-python",
   "name": "python",
   "nbconvert_exporter": "python",
   "pygments_lexer": "ipython3",
   "version": "3.7.6"
  }
 },
 "nbformat": 4,
 "nbformat_minor": 2
}
